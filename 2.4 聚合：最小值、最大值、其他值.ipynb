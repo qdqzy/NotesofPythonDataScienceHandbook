{
 "cells": [
  {
   "cell_type": "markdown",
   "metadata": {},
   "source": [
    "## 2.4 聚合：最小值、最大值、其他值"
   ]
  },
  {
   "cell_type": "markdown",
   "metadata": {},
   "source": [
    "### 2.4.1 数组值求和"
   ]
  },
  {
   "cell_type": "code",
   "execution_count": 1,
   "metadata": {},
   "outputs": [
    {
     "data": {
      "text/plain": [
       "2.8464551359447516"
      ]
     },
     "execution_count": 1,
     "metadata": {},
     "output_type": "execute_result"
    }
   ],
   "source": [
    "import numpy as np\n",
    "L = np.random.random(10)\n",
    "sum(L)#python内置函数sum"
   ]
  },
  {
   "cell_type": "code",
   "execution_count": 2,
   "metadata": {},
   "outputs": [
    {
     "data": {
      "text/plain": [
       "2.8464551359447516"
      ]
     },
     "execution_count": 2,
     "metadata": {},
     "output_type": "execute_result"
    }
   ],
   "source": [
    "np.sum(L)#np中的方法"
   ]
  },
  {
   "cell_type": "markdown",
   "metadata": {},
   "source": [
    "### 2.4.2 max & min"
   ]
  },
  {
   "cell_type": "code",
   "execution_count": 3,
   "metadata": {},
   "outputs": [
    {
     "name": "stdout",
     "output_type": "stream",
     "text": [
      "164 µs ± 2.71 µs per loop (mean ± std. dev. of 7 runs, 10000 loops each)\n",
      "3.09 µs ± 41.5 ns per loop (mean ± std. dev. of 7 runs, 100000 loops each)\n"
     ]
    }
   ],
   "source": [
    "big_array = np.random.rand(1000)\n",
    "%timeit sum(big_array)\n",
    "%timeit np.sum(big_array)"
   ]
  },
  {
   "cell_type": "code",
   "execution_count": 8,
   "metadata": {},
   "outputs": [
    {
     "name": "stdout",
     "output_type": "stream",
     "text": [
      "68.9 µs ± 2.82 µs per loop (mean ± std. dev. of 7 runs, 10000 loops each)\n"
     ]
    }
   ],
   "source": [
    "%timeit min(big_array)"
   ]
  },
  {
   "cell_type": "code",
   "execution_count": 5,
   "metadata": {},
   "outputs": [
    {
     "data": {
      "text/plain": [
       "0.998342996761799"
      ]
     },
     "execution_count": 5,
     "metadata": {},
     "output_type": "execute_result"
    }
   ],
   "source": [
    "max(big_array)"
   ]
  },
  {
   "cell_type": "code",
   "execution_count": 9,
   "metadata": {},
   "outputs": [
    {
     "name": "stdout",
     "output_type": "stream",
     "text": [
      "3.11 µs ± 284 ns per loop (mean ± std. dev. of 7 runs, 100000 loops each)\n"
     ]
    }
   ],
   "source": [
    "%timeit np.min(big_array) #np中的语法明显要更快一些"
   ]
  },
  {
   "cell_type": "code",
   "execution_count": 7,
   "metadata": {},
   "outputs": [
    {
     "data": {
      "text/plain": [
       "0.998342996761799"
      ]
     },
     "execution_count": 7,
     "metadata": {},
     "output_type": "execute_result"
    }
   ],
   "source": [
    "np.max(big_array)"
   ]
  },
  {
   "cell_type": "code",
   "execution_count": 10,
   "metadata": {},
   "outputs": [
    {
     "name": "stdout",
     "output_type": "stream",
     "text": [
      "0.998342996761799 0.0013296091676711086\n"
     ]
    }
   ],
   "source": [
    "'''另一种更简洁的语法是通过对象直接调用'''\n",
    "print(big_array.max(),big_array.min())"
   ]
  },
  {
   "cell_type": "markdown",
   "metadata": {},
   "source": [
    "1.多维度聚合"
   ]
  },
  {
   "cell_type": "code",
   "execution_count": 11,
   "metadata": {},
   "outputs": [
    {
     "name": "stdout",
     "output_type": "stream",
     "text": [
      "[[0.17460472 0.8095875  0.98024377 0.58942287]\n",
      " [0.16436885 0.47376126 0.27927504 0.55330698]\n",
      " [0.1979097  0.3506765  0.48979371 0.07578097]]\n"
     ]
    }
   ],
   "source": [
    "M = np.random.rand(3,4)\n",
    "print(M)"
   ]
  },
  {
   "cell_type": "code",
   "execution_count": 12,
   "metadata": {},
   "outputs": [
    {
     "data": {
      "text/plain": [
       "array([0.16436885, 0.3506765 , 0.27927504, 0.07578097])"
      ]
     },
     "execution_count": 12,
     "metadata": {},
     "output_type": "execute_result"
    }
   ],
   "source": [
    "M.min(axis=0)#每一列的最小值"
   ]
  },
  {
   "cell_type": "code",
   "execution_count": 13,
   "metadata": {},
   "outputs": [
    {
     "data": {
      "text/plain": [
       "array([0.98024377, 0.55330698, 0.48979371])"
      ]
     },
     "execution_count": 13,
     "metadata": {},
     "output_type": "execute_result"
    }
   ],
   "source": [
    "M.max(axis=1)#每一行的最大值\n"
   ]
  },
  {
   "cell_type": "markdown",
   "metadata": {},
   "source": [
    "### 2.4.3 demo:美国总统身高"
   ]
  },
  {
   "cell_type": "code",
   "execution_count": 17,
   "metadata": {},
   "outputs": [],
   "source": [
    "import pandas as pd"
   ]
  },
  {
   "cell_type": "code",
   "execution_count": 18,
   "metadata": {},
   "outputs": [
    {
     "data": {
      "text/html": [
       "<div>\n",
       "<style scoped>\n",
       "    .dataframe tbody tr th:only-of-type {\n",
       "        vertical-align: middle;\n",
       "    }\n",
       "\n",
       "    .dataframe tbody tr th {\n",
       "        vertical-align: top;\n",
       "    }\n",
       "\n",
       "    .dataframe thead th {\n",
       "        text-align: right;\n",
       "    }\n",
       "</style>\n",
       "<table border=\"1\" class=\"dataframe\">\n",
       "  <thead>\n",
       "    <tr style=\"text-align: right;\">\n",
       "      <th></th>\n",
       "      <th>order</th>\n",
       "      <th>name</th>\n",
       "      <th>height(cm)</th>\n",
       "    </tr>\n",
       "  </thead>\n",
       "  <tbody>\n",
       "    <tr>\n",
       "      <th>0</th>\n",
       "      <td>1</td>\n",
       "      <td>George Washington</td>\n",
       "      <td>189</td>\n",
       "    </tr>\n",
       "    <tr>\n",
       "      <th>1</th>\n",
       "      <td>2</td>\n",
       "      <td>John Adams</td>\n",
       "      <td>170</td>\n",
       "    </tr>\n",
       "    <tr>\n",
       "      <th>2</th>\n",
       "      <td>3</td>\n",
       "      <td>Thomas Jefferson</td>\n",
       "      <td>189</td>\n",
       "    </tr>\n",
       "    <tr>\n",
       "      <th>3</th>\n",
       "      <td>4</td>\n",
       "      <td>James Madison</td>\n",
       "      <td>163</td>\n",
       "    </tr>\n",
       "    <tr>\n",
       "      <th>4</th>\n",
       "      <td>5</td>\n",
       "      <td>James Monroe</td>\n",
       "      <td>183</td>\n",
       "    </tr>\n",
       "  </tbody>\n",
       "</table>\n",
       "</div>"
      ],
      "text/plain": [
       "   order               name  height(cm)\n",
       "0      1  George Washington         189\n",
       "1      2         John Adams         170\n",
       "2      3   Thomas Jefferson         189\n",
       "3      4      James Madison         163\n",
       "4      5       James Monroe         183"
      ]
     },
     "execution_count": 18,
     "metadata": {},
     "output_type": "execute_result"
    }
   ],
   "source": [
    "data  = pd.read_csv(\"data/president_heights.csv\")\n",
    "data.head()"
   ]
  },
  {
   "cell_type": "code",
   "execution_count": 19,
   "metadata": {},
   "outputs": [
    {
     "name": "stdout",
     "output_type": "stream",
     "text": [
      "[189 170 189 163 183 171 185 168 173 183 173 173 175 178 183 193 178 173\n",
      " 174 183 183 168 170 178 182 180 183 178 182 188 175 179 183 193 182 183\n",
      " 177 185 188 188 182 185]\n"
     ]
    }
   ],
   "source": [
    "heights = np.array(data['height(cm)'])\n",
    "print(heights)#所有的身高"
   ]
  },
  {
   "cell_type": "code",
   "execution_count": 21,
   "metadata": {},
   "outputs": [
    {
     "name": "stdout",
     "output_type": "stream",
     "text": [
      "Mean height:  179.73809523809524\n",
      "standard deviation: 6.931843442745892\n",
      "Minimum height:  163\n"
     ]
    }
   ],
   "source": [
    "#概括统计值\n",
    "print(\"Mean height: \",heights.mean())\n",
    "print(\"standard deviation:\",heights.std())\n",
    "print(\"Minimum height: \",heights.min())"
   ]
  },
  {
   "cell_type": "code",
   "execution_count": 23,
   "metadata": {},
   "outputs": [
    {
     "name": "stdout",
     "output_type": "stream",
     "text": [
      "25th percentile:  174.25\n",
      "Median:  182.0\n",
      "75 percentile 183.0\n"
     ]
    }
   ],
   "source": [
    "#计算分位数：\n",
    "print(\"25th percentile: \",np.percentile(heights, 25))\n",
    "print(\"Median: \",np.median(heights))\n",
    "print(\"75 percentile\", np.percentile(heights, 75))"
   ]
  },
  {
   "cell_type": "code",
   "execution_count": 28,
   "metadata": {},
   "outputs": [],
   "source": [
    "%matplotlib inline\n",
    "import matplotlib.pyplot as plt\n",
    "import seaborn\n",
    "seaborn.set()#设置绘画风格"
   ]
  },
  {
   "cell_type": "code",
   "execution_count": 26,
   "metadata": {},
   "outputs": [
    {
     "name": "stdout",
     "output_type": "stream",
     "text": [
      "Package                            Version   \n",
      "---------------------------------- ----------\n",
      "absl-py                            0.5.0     \n",
      "alabaster                          0.7.10    \n",
      "anaconda-client                    1.6.14    \n",
      "anaconda-navigator                 1.9.4     \n",
      "anaconda-project                   0.8.2     \n",
      "asn1crypto                         0.24.0    \n",
      "astor                              0.7.1     \n",
      "astroid                            1.6.3     \n",
      "astropy                            3.0.2     \n",
      "attrs                              18.1.0    \n",
      "Babel                              2.5.3     \n",
      "backcall                           0.1.0     \n",
      "backports.shutil-get-terminal-size 1.0.0     \n",
      "beautifulsoup4                     4.6.0     \n",
      "bitarray                           0.8.1     \n",
      "bkcharts                           0.2       \n",
      "blaze                              0.11.3    \n",
      "bleach                             2.1.3     \n",
      "bokeh                              0.12.16   \n",
      "boto                               2.48.0    \n",
      "Bottleneck                         1.2.1     \n",
      "caffe2                             0.8.1     \n",
      "certifi                            2018.4.16 \n",
      "cffi                               1.11.5    \n",
      "chainer                            4.1.0     \n",
      "chardet                            3.0.4     \n",
      "click                              6.7       \n",
      "cloudpickle                        0.5.3     \n",
      "clyent                             1.2.2     \n",
      "colorama                           0.3.9     \n",
      "comtypes                           1.1.4     \n",
      "conda                              4.5.11    \n",
      "conda-build                        3.10.5    \n",
      "conda-verify                       2.0.0     \n",
      "configparser                       3.5.0     \n",
      "contextlib2                        0.5.5     \n",
      "cryptography                       2.2.2     \n",
      "cycler                             0.10.0    \n",
      "cymem                              1.31.2    \n",
      "Cython                             0.28.2    \n",
      "cytoolz                            0.9.0.1   \n",
      "dask                               0.17.5    \n",
      "dataclasses                        0.6       \n",
      "datashape                          0.5.4     \n",
      "decorator                          4.3.0     \n",
      "dill                               0.2.8.2   \n",
      "distributed                        1.21.8    \n",
      "docutils                           0.14      \n",
      "entrypoints                        0.2.3     \n",
      "et-xmlfile                         1.0.1     \n",
      "fastai                             1.0.6     \n",
      "fastcache                          1.0.2     \n",
      "fastprogress                       0.1.13    \n",
      "filelock                           3.0.4     \n",
      "Flask                              1.0.2     \n",
      "Flask-Cors                         3.0.4     \n",
      "future                             0.16.0    \n",
      "gast                               0.2.0     \n",
      "gevent                             1.3.0     \n",
      "glob2                              0.6       \n",
      "graphviz                           0.9       \n",
      "greenlet                           0.4.13    \n",
      "grpcio                             1.15.0    \n",
      "h5py                               2.7.1     \n",
      "heapdict                           1.0.0     \n",
      "html5lib                           1.0.1     \n",
      "hypothesis                         3.73.1    \n",
      "idna                               2.6       \n",
      "imageio                            2.3.0     \n",
      "imagesize                          1.0.0     \n",
      "ipdb                               0.11      \n",
      "ipykernel                          4.8.2     \n",
      "ipython                            6.4.0     \n",
      "ipython-genutils                   0.2.0     \n",
      "ipywidgets                         7.2.1     \n",
      "isort                              4.3.4     \n",
      "itsdangerous                       0.24      \n",
      "jdcal                              1.4       \n",
      "jedi                               0.12.0    \n",
      "Jinja2                             2.10      \n",
      "jsonschema                         2.6.0     \n",
      "jupyter                            1.0.0     \n",
      "jupyter-client                     5.2.3     \n",
      "jupyter-console                    5.2.0     \n",
      "jupyter-core                       4.4.0     \n",
      "jupyterlab                         0.32.1    \n",
      "jupyterlab-launcher                0.10.5    \n",
      "Keras                              2.1.6     \n",
      "Keras-Applications                 1.0.6     \n",
      "Keras-Preprocessing                1.0.5     \n",
      "kiwisolver                         1.0.1     \n",
      "lazy-object-proxy                  1.3.1     \n",
      "libsvm                             3.22      \n",
      "llvmlite                           0.23.1    \n",
      "lmdb                               0.92      \n",
      "locket                             0.2.0     \n",
      "lxml                               4.2.1     \n",
      "Markdown                           3.0.1     \n",
      "MarkupSafe                         1.0       \n",
      "matplotlib                         2.2.2     \n",
      "mccabe                             0.6.1     \n",
      "menuinst                           1.4.14    \n",
      "mistune                            0.8.3     \n",
      "mkl-fft                            1.0.0     \n",
      "mkl-random                         1.0.1     \n",
      "more-itertools                     4.1.0     \n",
      "mpmath                             1.0.0     \n",
      "msgpack-numpy                      0.4.4.1   \n",
      "msgpack-python                     0.5.6     \n",
      "multipledispatch                   0.5.0     \n",
      "murmurhash                         0.28.0    \n",
      "mxnet-cu90                         1.2.0     \n",
      "navigator-updater                  0.2.1     \n",
      "nbconvert                          5.3.1     \n",
      "nbformat                           4.4.0     \n",
      "networkx                           2.1       \n",
      "nltk                               3.3       \n",
      "nose                               1.3.7     \n",
      "notebook                           5.5.0     \n",
      "numba                              0.38.0    \n",
      "numexpr                            2.6.5     \n",
      "numpy                              1.14.3    \n",
      "numpydoc                           0.8.0     \n",
      "odo                                0.5.1     \n",
      "olefile                            0.45.1    \n",
      "onnx                               1.1.2     \n",
      "onnxmltools                        1.0.0.0   \n",
      "openpyxl                           2.5.3     \n",
      "packaging                          17.1      \n",
      "pandas                             0.23.0    \n",
      "pandocfilters                      1.4.2     \n",
      "parso                              0.2.0     \n",
      "partd                              0.3.8     \n",
      "path.py                            11.0.1    \n",
      "pathlib2                           2.3.2     \n",
      "patsy                              0.5.0     \n",
      "pep8                               1.7.1     \n",
      "pickleshare                        0.7.4     \n",
      "Pillow                             5.1.0     \n",
      "pip                                19.0.3    \n",
      "pkginfo                            1.4.2     \n",
      "plac                               0.9.6     \n",
      "pluggy                             0.6.0     \n",
      "ply                                3.11      \n",
      "preshed                            1.0.1     \n",
      "prompt-toolkit                     1.0.15    \n",
      "protobuf                           3.6.1     \n",
      "psutil                             5.4.5     \n",
      "py                                 1.5.3     \n",
      "pycodestyle                        2.4.0     \n",
      "pycosat                            0.6.3     \n",
      "pycparser                          2.18      \n",
      "pycrypto                           2.6.1     \n",
      "pycurl                             7.43.0.1  \n",
      "pyflakes                           1.6.0     \n",
      "Pygments                           2.2.0     \n",
      "pylint                             1.8.4     \n",
      "pyodbc                             4.0.23    \n",
      "pyOpenSSL                          18.0.0    \n",
      "pyparsing                          2.2.0     \n",
      "pyreadline                         2.1       \n",
      "PySocks                            1.6.8     \n",
      "pytest                             3.5.1     \n",
      "pytest-arraydiff                   0.2       \n",
      "pytest-astropy                     0.3.0     \n",
      "pytest-doctestplus                 0.1.3     \n",
      "pytest-openfiles                   0.3.0     \n",
      "pytest-remotedata                  0.2.1     \n",
      "python-dateutil                    2.7.3     \n",
      "pytz                               2018.4    \n",
      "PyWavelets                         0.5.2     \n",
      "pywin32                            223       \n",
      "pywinpty                           0.5.1     \n",
      "PyYAML                             3.12      \n",
      "pyzmq                              17.0.0    \n",
      "QtAwesome                          0.4.4     \n",
      "qtconsole                          4.3.1     \n",
      "QtPy                               1.4.1     \n",
      "regex                              2018.7.11 \n",
      "requests                           2.18.4    \n",
      "rope                               0.10.7    \n",
      "ruamel-yaml                        0.15.35   \n",
      "scikit-image                       0.13.1    \n",
      "scikit-learn                       0.19.1    \n",
      "scipy                              1.1.0     \n",
      "seaborn                            0.8.1     \n",
      "Send2Trash                         1.5.0     \n",
      "setuptools                         39.1.0    \n",
      "simplegeneric                      0.8.1     \n",
      "singledispatch                     3.4.0.3   \n",
      "six                                1.11.0    \n",
      "snowballstemmer                    1.2.1     \n",
      "sortedcollections                  0.6.1     \n",
      "sortedcontainers                   1.5.10    \n",
      "spacy                              2.0.12    \n",
      "Sphinx                             1.7.4     \n",
      "sphinxcontrib-websupport           1.0.1     \n",
      "spyder                             3.2.8     \n",
      "SQLAlchemy                         1.2.7     \n",
      "statsmodels                        0.9.0     \n",
      "sympy                              1.1.1     \n",
      "tables                             3.4.3     \n",
      "tblib                              1.3.2     \n",
      "tensorboard                        1.11.0    \n",
      "tensorflow                         1.11.0    \n",
      "termcolor                          1.1.0     \n",
      "terminado                          0.8.1     \n",
      "testpath                           0.3.1     \n",
      "Theano                             1.0.2     \n",
      "thinc                              6.10.3    \n",
      "toolz                              0.9.0     \n",
      "torch                              0.4.0     \n",
      "torchvision                        0.2.1     \n",
      "tornado                            5.0.2     \n",
      "tqdm                               4.26.0    \n",
      "traitlets                          4.3.2     \n",
      "typing                             3.6.4     \n",
      "ujson                              1.35      \n",
      "unicodecsv                         0.14.1    \n",
      "urllib3                            1.22      \n",
      "wcwidth                            0.1.7     \n",
      "webencodings                       0.5.1     \n",
      "Werkzeug                           0.14.1    \n",
      "wheel                              0.31.1    \n",
      "widgetsnbextension                 3.2.1     \n",
      "win-inet-pton                      1.0.1     \n",
      "win-unicode-console                0.5       \n",
      "wincertstore                       0.2       \n",
      "winmltools                         0.1.0.5072\n",
      "wrapt                              1.10.11   \n",
      "xgboost                            0.71      \n",
      "xlrd                               1.1.0     \n",
      "XlsxWriter                         1.0.4     \n",
      "xlwings                            0.11.8    \n",
      "xlwt                               1.3.0     \n",
      "zict                               0.1.3     \n"
     ]
    }
   ],
   "source": [
    "!pip list"
   ]
  },
  {
   "cell_type": "code",
   "execution_count": 29,
   "metadata": {},
   "outputs": [
    {
     "data": {
      "image/png": "[encoded data removed]",
      "text/plain": [
       "<Figure size 432x288 with 1 Axes>"
      ]
     },
     "metadata": {},
     "output_type": "display_data"
    }
   ],
   "source": [
    "plt.hist(heights)\n",
    "plt.title(\"heights distribution of US Presidents\")\n",
    "plt.xlabel(\"heights(cm)\")\n",
    "plt.ylabel(\"number\");"
   ]
  },
  {
   "cell_type": "code",
   "execution_count": null,
   "metadata": {},
   "outputs": [],
   "source": []
  }
 ],
 "metadata": {
  "kernelspec": {
   "display_name": "Python 3",
   "language": "python",
   "name": "python3"
  },
  "language_info": {
   "codemirror_mode": {
    "name": "ipython",
    "version": 3
   },
   "file_extension": ".py",
   "mimetype": "text/x-python",
   "name": "python",
   "nbconvert_exporter": "python",
   "pygments_lexer": "ipython3",
   "version": "3.6.5"
  }
 },
 "nbformat": 4,
 "nbformat_minor": 2
}
